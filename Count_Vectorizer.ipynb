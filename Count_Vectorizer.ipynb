{
  "cells": [
    {
      "cell_type": "markdown",
      "metadata": {
        "id": "view-in-github",
        "colab_type": "text"
      },
      "source": [
        "<a href=\"https://colab.research.google.com/github/jenelaineDC/Natural-Language-Processing/blob/main/Count_Vectorizer.ipynb\" target=\"_parent\"><img src=\"https://colab.research.google.com/assets/colab-badge.svg\" alt=\"Open In Colab\"/></a>"
      ]
    },
    {
      "cell_type": "markdown",
      "id": "cf8a0424",
      "metadata": {
        "id": "cf8a0424"
      },
      "source": [
        "#  Text Classification BBC Dataset\n",
        "\n",
        "This notebook demonstrates **text preprocessing techniques** such as **lemmatization** and **stemming**, and compares their effects on model performance using a Naive Bayes classifier.\n",
        "\n",
        "We'll use the BBC news dataset from LazyProgrammer’s NLP course."
      ]
    },
    {
      "cell_type": "code",
      "execution_count": 1,
      "id": "1e6b1390",
      "metadata": {
        "colab": {
          "base_uri": "https://localhost:8080/"
        },
        "id": "1e6b1390",
        "outputId": "6f7f3be8-37b1-4047-f1c4-10810f3a5a3c"
      },
      "outputs": [
        {
          "output_type": "stream",
          "name": "stderr",
          "text": [
            "[nltk_data] Downloading package wordnet to /root/nltk_data...\n",
            "[nltk_data]   Package wordnet is already up-to-date!\n",
            "[nltk_data] Downloading package punkt to /root/nltk_data...\n",
            "[nltk_data]   Package punkt is already up-to-date!\n",
            "[nltk_data] Downloading package punkt_tab to /root/nltk_data...\n",
            "[nltk_data]   Package punkt_tab is already up-to-date!\n",
            "[nltk_data] Downloading package averaged_perceptron_tagger to\n",
            "[nltk_data]     /root/nltk_data...\n",
            "[nltk_data]   Package averaged_perceptron_tagger is already up-to-\n",
            "[nltk_data]       date!\n",
            "[nltk_data] Downloading package averaged_perceptron_tagger_eng to\n",
            "[nltk_data]     /root/nltk_data...\n",
            "[nltk_data]   Package averaged_perceptron_tagger_eng is already up-to-\n",
            "[nltk_data]       date!\n",
            "[nltk_data] Downloading package omw-1.4 to /root/nltk_data...\n",
            "[nltk_data]   Package omw-1.4 is already up-to-date!\n"
          ]
        },
        {
          "output_type": "execute_result",
          "data": {
            "text/plain": [
              "True"
            ]
          },
          "metadata": {},
          "execution_count": 1
        }
      ],
      "source": [
        "\n",
        "import numpy as np\n",
        "import pandas as pd\n",
        "from sklearn.feature_extraction.text import CountVectorizer\n",
        "from sklearn.naive_bayes import MultinomialNB\n",
        "from sklearn.model_selection import train_test_split\n",
        "\n",
        "import nltk\n",
        "from nltk import word_tokenize\n",
        "from nltk.stem import WordNetLemmatizer, PorterStemmer\n",
        "from nltk.corpus import wordnet\n",
        "\n",
        "# Download required NLTK data\n",
        "nltk.download(\"wordnet\")\n",
        "nltk.download('punkt')\n",
        "nltk.download('punkt_tab')\n",
        "nltk.download('averaged_perceptron_tagger')\n",
        "nltk.download('averaged_perceptron_tagger_eng')\n",
        "nltk.download('omw-1.4')\n"
      ]
    },
    {
      "cell_type": "markdown",
      "id": "3e092004",
      "metadata": {
        "id": "3e092004"
      },
      "source": [
        "## Load the BBC Dataset"
      ]
    },
    {
      "cell_type": "code",
      "execution_count": 2,
      "id": "ac9dcf6e",
      "metadata": {
        "colab": {
          "base_uri": "https://localhost:8080/"
        },
        "id": "ac9dcf6e",
        "outputId": "dba53d8b-8252-428d-89ff-1f0a64270366"
      },
      "outputs": [
        {
          "output_type": "stream",
          "name": "stdout",
          "text": [
            "File ‘bbc_text_cls.csv’ already there; not retrieving.\n",
            "\n",
            "                                                text    labels\n",
            "0  Ad sales boost Time Warner profit\\n\\nQuarterly...  business\n",
            "1  Dollar gains on Greenspan speech\\n\\nThe dollar...  business\n",
            "2  Yukos unit buyer faces loan claim\\n\\nThe owner...  business\n",
            "3  High fuel prices hit BA's profits\\n\\nBritish A...  business\n",
            "4  Pernod takeover talk lifts Domecq\\n\\nShares in...  business\n",
            "Number of samples: 2225\n"
          ]
        }
      ],
      "source": [
        "# Download dataset from LazyProgrammer's website\n",
        "!wget -nc https://lazyprogrammer.me/course_files/nlp/bbc_text_cls.csv\n",
        "\n",
        "# Load into pandas DataFrame\n",
        "df = pd.read_csv('bbc_text_cls.csv')\n",
        "print(df.head())\n",
        "print(\"Number of samples:\", len(df))\n"
      ]
    },
    {
      "cell_type": "markdown",
      "id": "71e4c70e",
      "metadata": {
        "id": "71e4c70e"
      },
      "source": [
        "## Visualize the Label Distribution"
      ]
    },
    {
      "cell_type": "code",
      "execution_count": 3,
      "id": "52d03c3c",
      "metadata": {
        "colab": {
          "base_uri": "https://localhost:8080/",
          "height": 410
        },
        "id": "52d03c3c",
        "outputId": "bc8f84a4-57cf-45b2-9548-b0cb863b2899"
      },
      "outputs": [
        {
          "output_type": "display_data",
          "data": {
            "text/plain": [
              "<Figure size 800x400 with 1 Axes>"
            ],
            "image/png": "[encoded data removed]"
          },
          "metadata": {}
        }
      ],
      "source": [
        "\n",
        "import matplotlib.pyplot as plt\n",
        "\n",
        "df['labels'].hist(figsize=(8, 4))\n",
        "plt.title(\"Label Distribution in BBC Dataset\")\n",
        "plt.xlabel(\"Category\")\n",
        "plt.ylabel(\"Frequency\")\n",
        "plt.show()\n"
      ]
    },
    {
      "cell_type": "markdown",
      "id": "14de527a",
      "metadata": {
        "id": "14de527a"
      },
      "source": [
        "##  Train-Test Split"
      ]
    },
    {
      "cell_type": "code",
      "execution_count": 4,
      "id": "fda6a498",
      "metadata": {
        "id": "fda6a498"
      },
      "outputs": [],
      "source": [
        "\n",
        "inputs = df['text']\n",
        "labels = df['labels']\n",
        "\n",
        "inputs_train, inputs_test, Ytrain, Ytest = train_test_split(\n",
        "    inputs, labels, random_state=123)\n"
      ]
    },
    {
      "cell_type": "markdown",
      "id": "3958ba14",
      "metadata": {
        "id": "3958ba14"
      },
      "source": [
        "## Baseline Model"
      ]
    },
    {
      "cell_type": "markdown",
      "source": [
        "### CountVectorizer()\n",
        "\n",
        "[Documentation](https://scikit-learn.org/stable/modules/generated/sklearn.feature_extraction.text.CountVectorizer.html)\n",
        "\n",
        "`CountVectorizer` converts a collection of text documents into a matrix of token counts (bag-of-words representation).\n",
        "\n",
        "Think of it like this:\n",
        "\n",
        "Text → Words → Count of each word → Numeric vector\n",
        "\n",
        "**Key Parameters:**\n",
        "\n",
        "| **Parameter**   | **Description**                                                 | **Default / Example**                    |\n",
        "| --------------- | --------------------------------------------------------------- | ---------------------------------------- |\n",
        "| `strip_accents` | Remove accents/diacritics                                       | `None`, `'ascii'`, `'unicode'`           |\n",
        "| `lowercase`     | Convert all text to lowercase before tokenizing                 | `True`                                   |                                 |\n",
        "| `tokenizer`     | Custom function to tokenize text                                | `None`                                   |\n",
        "| `stop_words`    | Remove common words                                             | `None`, `'english'` or list of words     |                          |                                  |\n",
        "| `max_features`  | Keep only top N most frequent tokens                            | `None` (keep all)                        |\n"
      ],
      "metadata": {
        "id": "pCGUK671Siyo"
      },
      "id": "pCGUK671Siyo"
    },
    {
      "cell_type": "markdown",
      "source": [
        "### MultinomialNB()\n",
        "\n",
        "[Documentation](https://scikit-learn.org/stable/modules/generated/sklearn.naive_bayes.MultinomialNB.html)\n",
        "\n",
        "`MultinomialNB` class in Scikit-learn is a Naive Bayes classifier designed for discrete data, often used in text classification tasks like spam detection or sentiment analysis. It assumes that features (e.g., word counts) follow a multinomial distribution."
      ],
      "metadata": {
        "id": "-Zt2pOnXXVnj"
      },
      "id": "-Zt2pOnXXVnj"
    },
    {
      "cell_type": "code",
      "execution_count": 5,
      "id": "fb4db258",
      "metadata": {
        "colab": {
          "base_uri": "https://localhost:8080/"
        },
        "id": "fb4db258",
        "outputId": "ae3242d0-77ac-41fb-8c5e-eedb254a9986"
      },
      "outputs": [
        {
          "output_type": "stream",
          "name": "stdout",
          "text": [
            "train score: 0.9922062350119905\n",
            "test score: 0.9712746858168761\n",
            "Non-zero value percentage: 0.0077\n"
          ]
        }
      ],
      "source": [
        "\n",
        "vectorizer = CountVectorizer()\n",
        "Xtrain = vectorizer.fit_transform(inputs_train)\n",
        "Xtest = vectorizer.transform(inputs_test)\n",
        "\n",
        "model = MultinomialNB()\n",
        "model.fit(Xtrain, Ytrain)\n",
        "\n",
        "print(\"train score:\", model.score(Xtrain, Ytrain))\n",
        "print(\"test score:\", model.score(Xtest, Ytest))\n",
        "\n",
        "density = (Xtrain != 0).sum() / np.prod(Xtrain.shape)\n",
        "print(f\"Non-zero value percentage: {density:.4f}\")\n"
      ]
    },
    {
      "cell_type": "markdown",
      "id": "506ff974",
      "metadata": {
        "id": "506ff974"
      },
      "source": [
        "## Model with Stopwords Removed"
      ]
    },
    {
      "cell_type": "code",
      "execution_count": 6,
      "id": "59cce0a1",
      "metadata": {
        "colab": {
          "base_uri": "https://localhost:8080/"
        },
        "id": "59cce0a1",
        "outputId": "f39e1fe5-0688-474b-cac7-1747bfcf9e3b"
      },
      "outputs": [
        {
          "output_type": "stream",
          "name": "stdout",
          "text": [
            "train score: 0.9928057553956835\n",
            "test score: 0.9766606822262118\n"
          ]
        }
      ],
      "source": [
        "\n",
        "vectorizer = CountVectorizer(stop_words='english')\n",
        "Xtrain = vectorizer.fit_transform(inputs_train)\n",
        "Xtest = vectorizer.transform(inputs_test)\n",
        "\n",
        "model = MultinomialNB()\n",
        "model.fit(Xtrain, Ytrain)\n",
        "\n",
        "print(\"train score:\", model.score(Xtrain, Ytrain))\n",
        "print(\"test score:\", model.score(Xtest, Ytest))\n"
      ]
    },
    {
      "cell_type": "markdown",
      "source": [
        "## Lemmatization and POS Tagging"
      ],
      "metadata": {
        "id": "as9geaS7QLs_"
      },
      "id": "as9geaS7QLs_"
    },
    {
      "cell_type": "markdown",
      "id": "4497dc28",
      "metadata": {
        "id": "4497dc28"
      },
      "source": [
        "### Helper Function: POS Tag to WordNet Mapping\n",
        "\n",
        "**Why this function?**\n",
        "- NLTK’s `pos_tag()` returns Treebank tags (like NN, VB, JJ).\n",
        "- But the `WordNetLemmatizer` expects WordNet POS tags (wordnet.NOUN, wordnet.VERB, etc.).\n",
        "- This helper function converts between the two tagging systems.\n",
        "\n",
        "Example:\n",
        "`\"running\"` → NLTK tag = `VBG` (verb gerund) → mapped to `wordnet.VERB`."
      ]
    },
    {
      "cell_type": "code",
      "execution_count": 7,
      "id": "1982ea79",
      "metadata": {
        "id": "1982ea79"
      },
      "outputs": [],
      "source": [
        "\n",
        "def get_wordnet_pos(treebank_tag):\n",
        "    if treebank_tag.startswith('J'):\n",
        "        return wordnet.ADJ\n",
        "    elif treebank_tag.startswith('V'):\n",
        "        return wordnet.VERB\n",
        "    elif treebank_tag.startswith('N'):\n",
        "        return wordnet.NOUN\n",
        "    elif treebank_tag.startswith('R'):\n",
        "        return wordnet.ADV\n",
        "    else:\n",
        "        return wordnet.NOUN\n"
      ]
    },
    {
      "cell_type": "markdown",
      "id": "0ec59948",
      "metadata": {
        "id": "0ec59948"
      },
      "source": [
        "### Lemmatization Tokenizer\n",
        "\n",
        "[WordNetLammatizer Documentation](https://www.nltk.org/api/nltk.stem.wordnet.html#nltk.stem.wordnet.WordNetLemmatizer)\n",
        "\n",
        "**What’s happening:**\n",
        "\n",
        "1. `__init__`: creates an instance of NLTK’s `WordNetLemmatizer`.\n",
        "2. `__call__`: allows the object to act like a function.\n",
        "  - Tokenizes the text into words.\n",
        "  - POS-tags each word (`nltk.pos_tag`).\n",
        "  - Lemmatizes each word using its correct POS.\n",
        "\n",
        "Example transformation:\n",
        "```\n",
        "\"Cats are running faster\" →\n",
        "tokens = [\"Cats\", \"are\", \"running\", \"faster\"] →\n",
        "lemmas = [\"cat\", \"be\", \"run\", \"fast\"]\n",
        "```\n",
        "\n",
        "This means the text is normalized intelligently — verbs, nouns, adjectives are reduced to their base form."
      ]
    },
    {
      "cell_type": "code",
      "execution_count": 8,
      "id": "695e23c6",
      "metadata": {
        "id": "695e23c6"
      },
      "outputs": [],
      "source": [
        "class LemmaTokenizer:\n",
        "    def __init__(self):\n",
        "        self.wnl = WordNetLemmatizer()\n",
        "    def __call__(self, doc):\n",
        "        tokens = word_tokenize(doc)\n",
        "        words_and_tags = nltk.pos_tag(tokens)\n",
        "        return [self.wnl.lemmatize(word, pos=get_wordnet_pos(tag)) for word, tag in words_and_tags]\n",
        "\n",
        "\n"
      ]
    },
    {
      "cell_type": "code",
      "source": [
        "# Use LemmaTokenizer\n",
        "vectorizer = CountVectorizer(tokenizer=LemmaTokenizer())\n",
        "Xtrain = vectorizer.fit_transform(inputs_train)\n",
        "Xtest = vectorizer.transform(inputs_test)\n",
        "\n",
        "model = MultinomialNB()\n",
        "model.fit(Xtrain, Ytrain)\n",
        "\n",
        "print(\"train score:\", model.score(Xtrain, Ytrain))\n",
        "print(\"test score:\", model.score(Xtest, Ytest))"
      ],
      "metadata": {
        "colab": {
          "base_uri": "https://localhost:8080/"
        },
        "id": "0zvk3vh9Q8cB",
        "outputId": "ec0ee06b-55d8-4fa8-dce9-283274be2e21"
      },
      "id": "0zvk3vh9Q8cB",
      "execution_count": 9,
      "outputs": [
        {
          "output_type": "stream",
          "name": "stderr",
          "text": [
            "/usr/local/lib/python3.12/dist-packages/sklearn/feature_extraction/text.py:517: UserWarning: The parameter 'token_pattern' will not be used since 'tokenizer' is not None'\n",
            "  warnings.warn(\n"
          ]
        },
        {
          "output_type": "stream",
          "name": "stdout",
          "text": [
            "train score: 0.9922062350119905\n",
            "test score: 0.9676840215439856\n"
          ]
        }
      ]
    },
    {
      "cell_type": "markdown",
      "id": "5cb200c7",
      "metadata": {
        "id": "5cb200c7"
      },
      "source": [
        "## Stemming"
      ]
    },
    {
      "cell_type": "code",
      "execution_count": 10,
      "id": "12829c4f",
      "metadata": {
        "colab": {
          "base_uri": "https://localhost:8080/"
        },
        "id": "12829c4f",
        "outputId": "f7e38742-a95d-46bc-aa13-1bfe7cb45392"
      },
      "outputs": [
        {
          "output_type": "stream",
          "name": "stderr",
          "text": [
            "/usr/local/lib/python3.12/dist-packages/sklearn/feature_extraction/text.py:517: UserWarning: The parameter 'token_pattern' will not be used since 'tokenizer' is not None'\n",
            "  warnings.warn(\n"
          ]
        },
        {
          "output_type": "stream",
          "name": "stdout",
          "text": [
            "train score: 0.9892086330935251\n",
            "test score: 0.9694793536804309\n"
          ]
        }
      ],
      "source": [
        "\n",
        "class StemTokenizer:\n",
        "    def __init__(self):\n",
        "        self.porter = PorterStemmer()\n",
        "    def __call__(self, doc):\n",
        "        tokens = word_tokenize(doc)\n",
        "        return [self.porter.stem(t) for t in tokens]\n",
        "\n",
        "# Use StemTokenizer\n",
        "vectorizer = CountVectorizer(tokenizer=StemTokenizer())\n",
        "Xtrain = vectorizer.fit_transform(inputs_train)\n",
        "Xtest = vectorizer.transform(inputs_test)\n",
        "\n",
        "model = MultinomialNB()\n",
        "model.fit(Xtrain, Ytrain)\n",
        "\n",
        "print(\"train score:\", model.score(Xtrain, Ytrain))\n",
        "print(\"test score:\", model.score(Xtest, Ytest))\n"
      ]
    },
    {
      "cell_type": "markdown",
      "id": "bd4e86d4",
      "metadata": {
        "id": "bd4e86d4"
      },
      "source": [
        "## Simple Split Tokenizer"
      ]
    },
    {
      "cell_type": "code",
      "execution_count": 11,
      "id": "e714a6a8",
      "metadata": {
        "colab": {
          "base_uri": "https://localhost:8080/"
        },
        "id": "e714a6a8",
        "outputId": "25f42ebd-53b6-4887-c221-a8cce2e6a807"
      },
      "outputs": [
        {
          "output_type": "stream",
          "name": "stderr",
          "text": [
            "/usr/local/lib/python3.12/dist-packages/sklearn/feature_extraction/text.py:517: UserWarning: The parameter 'token_pattern' will not be used since 'tokenizer' is not None'\n",
            "  warnings.warn(\n"
          ]
        },
        {
          "output_type": "stream",
          "name": "stdout",
          "text": [
            "train score: 0.9952038369304557\n",
            "test score: 0.9712746858168761\n"
          ]
        }
      ],
      "source": [
        "\n",
        "def simple_tokenizer(s):\n",
        "    return s.split()\n",
        "\n",
        "vectorizer = CountVectorizer(tokenizer=simple_tokenizer)\n",
        "Xtrain = vectorizer.fit_transform(inputs_train)\n",
        "Xtest = vectorizer.transform(inputs_test)\n",
        "\n",
        "model = MultinomialNB()\n",
        "model.fit(Xtrain, Ytrain)\n",
        "\n",
        "print(\"train score:\", model.score(Xtrain, Ytrain))\n",
        "print(\"test score:\", model.score(Xtest, Ytest))\n"
      ]
    },
    {
      "cell_type": "markdown",
      "id": "ca09b949",
      "metadata": {
        "id": "ca09b949"
      },
      "source": [
        "## Comparison Discussion\n",
        "- Compare vector dimensionality between tokenization methods.\n",
        "- Discuss why some have higher/lower dimensions.\n",
        "- Consider overfitting (train > test gap).\n",
        "- Stopword removal often improves generalization slightly.\n",
        "- Lemmatization tends to normalize tokens better than stemming, but may be slower."
      ]
    },
    {
      "cell_type": "code",
      "source": [],
      "metadata": {
        "id": "nmhMJdX-Uchg"
      },
      "id": "nmhMJdX-Uchg",
      "execution_count": 11,
      "outputs": []
    }
  ],
  "metadata": {
    "colab": {
      "provenance": [],
      "toc_visible": true,
      "include_colab_link": true
    },
    "language_info": {
      "name": "python"
    },
    "kernelspec": {
      "name": "python3",
      "display_name": "Python 3"
    }
  },
  "nbformat": 4,
  "nbformat_minor": 5
}